{
 "cells": [
  {
   "cell_type": "markdown",
   "id": "02c32a51-946a-463e-9c44-fc077907999b",
   "metadata": {},
   "source": [
    "# Trading algorithm that “works”\n",
    "\n",
    "https://trading-data-analysis.pro/trading-algorithm-that-doesnt-work-37e747f4c6a6\n",
    "\n",
    "Approach based on 3 daily bars predicted by neural network and technical indicators such as Bollinger Bands and RSI.\n",
    "\n",
    "#### Prerequisites\n",
    "\n",
    "- Trading API from Alpaca Markets (https://alpaca.markets). Set up your balance to 29k.\n",
    "- In order to notify us about bot’s execution we will need a Channel. I usually use Telegram-channel and bot cause they are the easiest to setup and monitor. Get HTTPS Keys.\n",
    "- Telegram Channel, with the bot as Administrator. Get channel ID.\n",
    "\n",
    "#### Tools and libraries\n",
    "\n",
    "- Python\n",
    "- \n",
    "Google Collaboration (Colab)- \n",
    "alpaca_trade_ap- i\n",
    "yfinan- ce\n",
    "pandas- _ta\n",
    "requ- ests\n",
    "matplotlib.\n",
    "\n",
    "#### Imports\n",
    "\n",
    "We have to import the following list of libraries which we will be using during the preparation of our trading script.\n",
    "  pyplot"
   ]
  },
  {
   "cell_type": "code",
   "execution_count": null,
   "id": "6bdd08b6-ae2f-48d0-88f3-b3e715620bbf",
   "metadata": {
    "tags": []
   },
   "outputs": [],
   "source": [
    "%pip install -r requirements1.txt"
   ]
  },
  {
   "cell_type": "code",
   "execution_count": 21,
   "id": "0db9e113-da9b-42fc-98c0-d66080a14850",
   "metadata": {
    "tags": []
   },
   "outputs": [],
   "source": [
    "import requests as rq\n",
    "import alpaca_trade_api as api\n",
    "import yfinance as yf\n",
    "import pandas_ta as ta\n",
    "import telebot"
   ]
  },
  {
   "cell_type": "markdown",
   "id": "138efb9f-86b6-4f12-b044-c67994d9fb2b",
   "metadata": {},
   "source": [
    "#### Settings\n",
    "\n",
    "For our trading algorithm we will use some settings. Here’s the short explanation of each of them:\n",
    "- Parameter ‘TRADER_BOT_NAME’ is the bot name which we will be using in notifications to the Telegram-channel;\n",
    "- Parameters ‘TRADER_API_KEY’, ‘TRADER_API_SECRET’ and ‘TRADER_API_URL’ should be filled with appropriate values which you received from the Trader API at Alpaca dashboard;\n",
    "- Parameters ‘TELEGRAM_URL’, ‘TELEGRAM_BOT_ID’ and ‘TELEGRAM_CHAT_ID’ should be filled with appropriate values which we discussed above;\n",
    "- Parameter ‘SCREENER_INTERVAL’ setup to 5m means that we will use 5 minutes chart for the stock to analyze it;\n",
    "- Parameter ‘SCREENER_PERIOD’ setup to 250m means that we will check the window for 250 bars;\n",
    "- Parameter ‘SCREENER_NASDAQ_COUNT’ that we have set up to 500 means that our stock screener will screen just only first 500 stocks out of more than 2300 shortable stocks in NASDAQ index;\n",
    "- Parameter ‘TAKE_PROFIT_DELTA’ that we have set up to 0.02 means that we will calculate and let algorithm trade when projected profit is at least 2% from the current stock price;\n",
    "- Parameter ‘CASH_LIMIT’ is the minimal amount on trading account which we don’t want to trade. We set it up to 26k because with the total balance 29k it means that just only 3k will be used in trading."
   ]
  },
  {
   "cell_type": "code",
   "execution_count": 38,
   "id": "89687525-3ddb-4ffd-90e9-c8eb212d967a",
   "metadata": {
    "tags": []
   },
   "outputs": [],
   "source": [
    "# SETTINGS\n",
    "TRADER_BOT_NAME = 'Trading_AI_Bot'\n",
    "\n",
    "TRADER_API_KEY = 'PKUH3V70OHPE6CWU3F4L'\n",
    "TRADER_API_SECRET = 'cswvwZ2CeLiYchIBQcwA4UUEy7Ph81BCsjoQ3lCe'\n",
    "TRADER_API_URL = 'https://paper-api.alpaca.markets'\n",
    "\n",
    "TELEGRAM_URL = 'https://api.telegram.org'\n",
    "TELEGRAM_BOT_ID = '6240899521:AAEjX6ayWtTb1FSU-OIZ8lbCoX7szwA3_jk'\n",
    "TELEGRAM_CHAT_ID = '-4010532996'\n",
    "\n",
    "SCREENER_INTERVAL = '5m'\n",
    "SCREENER_PERIOD = '250m'\n",
    "SCREENER_NASDAQ_COUNT = 500\n",
    "\n",
    "TAKE_PROFIT_DELTA = 0.02\n",
    "CASH_LIMIT = 26000"
   ]
  },
  {
   "cell_type": "markdown",
   "id": "884f8322-514e-4f5f-9af9-b92dde7cb901",
   "metadata": {},
   "source": [
    "#### Send messages\n",
    "In order to know how everything is going and what is our trading balance, we use the notification function the declaration of which is listed below:"
   ]
  },
  {
   "cell_type": "code",
   "execution_count": 39,
   "id": "de57db57-2c7c-48a4-b47b-68cd7fc7d72e",
   "metadata": {
    "tags": []
   },
   "outputs": [],
   "source": [
    "# Send message to Telegram channel\n",
    "def send_message(message):\n",
    "  response = rq.post(\n",
    "        f'{TELEGRAM_URL}/{TELEGRAM_BOT_ID}/sendMessage?chat_id={TELEGRAM_CHAT_ID}&parse_mode=Markdown&text={message}')\n",
    "\n",
    "  return response"
   ]
  },
  {
   "cell_type": "code",
   "execution_count": 23,
   "id": "8ba8d31e-ffd0-4d53-979d-beb8d0c32b71",
   "metadata": {
    "tags": []
   },
   "outputs": [],
   "source": [
    "#Codigo alternativo para mandar mensajes al Bot\n",
    "\n",
    "import telebot\n",
    "\n",
    "bot = telebot.TeleBot(\"6240899521:AAEjX6ayWtTb1FSU-OIZ8lbCoX7szwA3_jk\")\n",
    "@bot.message_handler(commands=[\"help\",\"start\"])\n",
    "\n",
    "def enviar(message):\n",
    "    bot.reply_to(message, \"Hola, ¿Cómo estás?\")\n",
    "\n",
    "bot.polling()"
   ]
  },
  {
   "cell_type": "code",
   "execution_count": 40,
   "id": "18331b41-3798-4c58-bbe2-2daf636b321d",
   "metadata": {
    "tags": []
   },
   "outputs": [
    {
     "data": {
      "text/plain": [
       "<Response [404]>"
      ]
     },
     "execution_count": 40,
     "metadata": {},
     "output_type": "execute_result"
    }
   ],
   "source": [
    "send_message(\"prueba\")"
   ]
  },
  {
   "cell_type": "markdown",
   "id": "71ab0186-6dca-4f78-a044-58270d7c30fc",
   "metadata": {},
   "source": [
    "As I mentioned earlier, all messages will be sent to the Telegram-channel using regular HttpRequest. Here is just one parameter in query string which I would like to explain: it’s a ‘parse_mode’ which is set up to ‘Markdown’ that means the messages will be formatted.\n",
    "\n",
    "#### Stock screener\n",
    "\n",
    "Awesome! So we are now at the most important section of this article and hereby I will explain why. I believe that Stock-screener is the crucial tool of any algorithm because it lets us preselect the stocks which are more relevant to our preconditions and worth our attention at this moment.\n",
    "\n",
    "As you remember from the ‘Settings’ chapter we will screen the first 500 stocks from the NASDAQ index to find the pattern which we believe is the most relevant for tradiIn our case, to identify this pattern we use Bollinger Bands with period = 20 and non-standard deviation equals to 2.3. This number is important, believe me. I got this setup for BBANDS based on my own experiments. They work much better than the standard deviation equaling 2. Actually these numbers are so important that most investment firms protect them in their public relations and non-disclosure agreements.\n",
    "\n",
    "And the second indicator is RSI with standard setup.ng.\n",
    "\n"
   ]
  },
  {
   "cell_type": "code",
   "execution_count": null,
   "id": "75cc2739-be07-410b-adf2-dc17c3145169",
   "metadata": {
    "tags": []
   },
   "outputs": [],
   "source": [
    "# Check stock with TA indicators\n",
    "def CheckStock(stock):\n",
    "  data = {}\n",
    "  try:\n",
    "    df = yf.download(stock, period = SCREENER_PERIOD, interval = SCREENER_INTERVAL)\n",
    "    if (len(df) > 0):\n",
    "      df['RSI'] = ta.rsi(df['Close'], timeperiod=14)\n",
    "      bbands = ta.bbands(df['Close'], length = 20, std=2.3)\n",
    "      df['L'] = bbands['BBL_20_2.3']\n",
    "      df['M'] = bbands['BBM_20_2.3']\n",
    "      df['U'] = bbands['BBU_20_2.3']\n",
    "      \n",
    "      previous2_bar = df[-3:].head(1)\n",
    "      previous_bar = df[-2:].head(1)\n",
    "      current_bar = df[-1:]\n",
    "\n",
    "      if current_bar['RSI'].values[0] > 70 and \\\n",
    "          current_bar['Close'].values[0] > current_bar['U'].values[0]:\n",
    "            data = { 'direction': 'DOWN', 'stock' : stock, 'stop_loss': round(max(previous_bar['High'].values[0], previous2_bar['High'].values[0], previous_bar['U'].values[0]), 2), \\\n",
    "                    'take_profit': round(min(previous_bar['Low'].values[0], previous2_bar['Low'].values[0], previous_bar['M'].values[0]), 2) }\n",
    "      elif current_bar['RSI'].values[0] < 30 and \\\n",
    "            current_bar['Close'].values[0] < current_bar['L'].values[0]:\n",
    "              data = { 'direction': 'UP', 'stock' : stock, 'stop_loss': round(min(previous_bar['Low'].values[0], previous2_bar['Low'].values[0], previous_bar['L'].values[0]), 2), \\\n",
    "                      'take_profit': round(max(previous_bar['High'].values[0], previous2_bar['High'].values[0], previous_bar['M'].values[0]), 2) }\n",
    "  except:\n",
    "    pass\n",
    "\n",
    "  return data"
   ]
  },
  {
   "cell_type": "code",
   "execution_count": null,
   "id": "181cea0c-8e8b-4777-8e8e-9fd34140985e",
   "metadata": {
    "tags": []
   },
   "outputs": [],
   "source": [
    "#Chequeamos el valor de algunas acciones\n",
    "CheckStock(\"QCOM\")"
   ]
  },
  {
   "cell_type": "markdown",
   "id": "23b53847-f79b-4ad7-bdab-c2e076b79773",
   "metadata": {},
   "source": [
    "Let me explain how it works. We load tickers for first 500 stocks from NASDAQ and check each of that stock at this particular moment for several conditions.\n",
    "\n",
    "For the market that is gonna go DOWN (market is overbought):\n",
    "\n",
    "- Current stock price should be above the upper band of BBANDS;\n",
    "- Current RSI value is above 70.\n",
    "\n",
    "For the market that is gonna go UP (market is oversold):\n",
    "\n",
    "- Current stock price should be below the lower band of BBANDS;\n",
    "- Current RSI value is below 30."
   ]
  },
  {
   "cell_type": "code",
   "execution_count": null,
   "id": "9eac6eb8-1035-415b-bb5f-ffedc77662f5",
   "metadata": {
    "tags": []
   },
   "outputs": [],
   "source": [
    "# Screen stocks\n",
    "def ScreenStocks(trader_api):\n",
    "  assets = trader_api.list_assets(status='active', asset_class='us_equity')\n",
    "  assets = [x for x in assets if x.shortable == True and x.exchange == 'NASDAQ']\n",
    "  stocks = [x.symbol for x in assets][:SCREENER_NASDAQ_COUNT]\n",
    "\n",
    "  screened = []\n",
    "  for st in stocks:\n",
    "    _stock = CheckStock(st)\n",
    "    if _stock != {}:\n",
    "      screened.append(_stock)\n",
    "\n",
    "  screened = [x for x in screened if abs(x['stop_loss'] - x['take_profit']) > min(x['stop_loss'], x['take_profit']) * TAKE_PROFIT_DELTA]\n",
    "  return screened"
   ]
  },
  {
   "cell_type": "markdown",
   "id": "6cde72dc-117c-4846-96df-2dd3c6fd8c0b",
   "metadata": {},
   "source": [
    "At the same time, during this stock prescreen we prepare (calculate) our stop-loss and take-profit in advance and add the prescreened stock to the collection of stocks selected. I know, you probably wonder ‘Where exactly we use the neural network and its predictions?’. Be patient, you will see it next.\n",
    "\n",
    "#### Prediction from neural network\n",
    "\n",
    "When you prescreened the stock you might want to increase your chances to win the market using the predictions from the neural network.\n",
    "\n",
    "In the previous article we discussed how to predict stock market with Tensorflow and LSTM neural network. As you probably remember, by the end of that script, we got 3 numbers — predictions from neural network for the upcoming 3 days."
   ]
  },
  {
   "cell_type": "code",
   "execution_count": null,
   "id": "859b6dbc-a87c-4ae4-9db6-2f41003d4b45",
   "metadata": {},
   "outputs": [],
   "source": [
    "# Get predictions from LSTM neural network\n",
    "def Predict(stock):\n",
    "  predictions = [100.24, 155.33, 140.55]\n",
    "\n",
    "  # Here we have to organize communication between our algorithm and LSTM Model \\\n",
    "  # to get predictions by ticker for the particular stock.\n",
    "  # But this is the question to the infrastructure.\n",
    "  # I am gonna consider it in the next article \"Infrastructure itself\".\n",
    "\n",
    "  return predictions"
   ]
  },
  {
   "cell_type": "markdown",
   "id": "76a19398-a331-46ec-ad52-3dbe4be74cab",
   "metadata": {},
   "source": [
    "The task of this section is using those predictions. However, this is little complicated thing. Remember, our LSTM neural network works hard, at least 10 minutes for data mining the result and generating predictions. It means that we need to build the appropriate infrastructure to let it work asynchronously.\n",
    "\n",
    "For instance, in one of my own working algorithms I use database to store and read predictions from. Let’s discuss our ways to communicate between trading algorithms and neural networks next time.\n",
    "\n",
    "But, for purposes of this experiment we will return some list of numbers as if they were our predictions from the procedure ‘Predict(stock)’.\n",
    "\n",
    "#### Let’s trade\n",
    "The function ‘Trade’ is the basic function which creates all orders on trading platform. It has a few input parameters:\n",
    "\n",
    "- Parameter ‘api’ is the reference to API-object;\n",
    "- Parameter ‘stock’ is the string with an appropriate ticker which we will buy or sell;\n",
    "- Parameter ‘operation’ could have the value ‘buy’ or ‘sell’;\n",
    "- Parameter ‘shares_to_trade’ is the quantity of shares which we will buy;\n",
    "- Parameter ‘take_profit’ is the target price for exit from the market;\n",
    "- Parameter ‘stop_loss’ is the insurance from the situation when something goes wrong and market goes in the opposite direction from what we have set up to follow;"
   ]
  },
  {
   "cell_type": "code",
   "execution_count": null,
   "id": "20dac469-776f-4b74-a14d-a858de09d8de",
   "metadata": {
    "tags": []
   },
   "outputs": [],
   "source": [
    "# Trade with STOP_LOSS and TAKE_PROFIT\n",
    "def Trade(api, stock, operation, shares_to_trade, take_profit, stop_loss):\n",
    "  api.submit_order(symbol = stock, qty = shares_to_trade, side = operation, type = 'market',\n",
    "                  order_class = 'bracket', time_in_force = 'day', \n",
    "                  take_profit = {'limit_price': take_profit},\n",
    "                  stop_loss = {'stop_price': stop_loss})\n",
    "  message = f'\\n\\t*{stock}*, qty _{shares_to_trade}_ \\n\\t\\twere {operation}'\n",
    "  send_message(f'{TRADER_BOT_NAME}: we entered the market with:' + message)\n",
    "  return True"
   ]
  },
  {
   "cell_type": "markdown",
   "id": "d9345319-3171-42fa-b4d5-e419a195d95b",
   "metadata": {},
   "source": [
    "When the order is placed we send the message to the appropriate Telegram-channel to notify us about the trading.\n",
    "\n",
    "#### Trading Bot\n",
    "\n",
    "Ok, we are almost at the last section of this article and now we are going to consider this final part of the code. This script describes the logic of our algorithm from the beginning to the end.\n",
    "\n",
    "I want to emphasize that this script is expected to be launched each hour from 9:30 AM until 3:30 PM from Monday to Friday except holidays. At this time the market is open.\n",
    "\n",
    "At the very beginning we open the connection with Trader API using our API_KEY and API_SECRET which we set up in the chapter ‘Settings’. Then we also load information about our account and market clock.\n",
    "\n",
    "First of all we check if account was loaded and if so, we send the message to Telegram-channel about our total balance and non-marginable buying power which we can use to trade. This is the amount of money which is available for trading now."
   ]
  },
  {
   "cell_type": "code",
   "execution_count": null,
   "id": "426b26d6-91f4-4cfe-81d3-a15063e1099d",
   "metadata": {
    "tags": []
   },
   "outputs": [],
   "source": [
    "# MAIN script\n",
    "def medium_trader_go(request):\n",
    "  trader_api = api.REST(TRADER_API_KEY, TRADER_API_SECRET, TRADER_API_URL)\n",
    "  account = trader_api.get_account()\n",
    "  clock = trader_api.get_clock()\n",
    "\n",
    "  if bool(account) == True:\n",
    "    message = f'''{TRADER_BOT_NAME}: for *{account.account_number}*\n",
    "    current capital is _{account.portfolio_value}$_ \n",
    "    and non marginable buying power is _{account.non_marginable_buying_power}$_'''\n",
    "    send_message(message)\n",
    "\n",
    "  if clock.is_open == True:\n",
    "    if float(account.non_marginable_buying_power) < CASH_LIMIT:\n",
    "      message = f\"{TRADER_BOT_NAME}: there is no cash on the account or limit reached!\"\n",
    "      send_message(message)\n",
    "    else:\n",
    "      # Screen stocks\n",
    "      screened = ScreenStocks(trader_api)\n",
    "      # Check limit and trade\n",
    "      if len(screened) > 0:\n",
    "        CASH_FOR_TRADE_PER_SHARE = (float(account.non_marginable_buying_power) - CASH_LIMIT) / len(screened)\n",
    "        for item in screened:\n",
    "          predictions = Predict(item['stock'])\n",
    "          STOCK = item['stock']\n",
    "          OPERATION = 'buy' if item['direction'] == 'UP' else 'sell'\n",
    "          STOP_LOSS = min([item['stop_loss']] + predictions) if item['direction'] == 'UP' else max([item['stop_loss']] + predictions)\n",
    "          TAKE_PROFIT = max([item['take_profit']] + predictions) if item['direction'] == 'UP' else min([item['take_profit']] + predictions)\n",
    "          SHARE_PRICE = round(min(STOP_LOSS, TAKE_PROFIT), 2)\n",
    "          SHARES_TO_TRADE = int(CASH_FOR_TRADE_PER_SHARE / SHARE_PRICE)\n",
    "          try:\n",
    "            if abs(STOP_LOSS - TAKE_PROFIT) > SHARE_PRICE * TAKE_PROFIT_DELTA and SHARES_TO_TRADE > 0:\n",
    "              Trade(api, STOCK, OPERATION, SHARES_TO_TRADE, TAKE_PROFIT, STOP_LOSS)\n",
    "              print(f'\\n{STOCK}: {STOP_LOSS}, {TAKE_PROFIT}, {OPERATION}, {SHARES_TO_TRADE}')\n",
    "          except:\n",
    "            pass\n",
    "\n",
    "  portfolio = trader_api.list_positions()\n",
    "  if bool(portfolio) == True:\n",
    "    message = f'{TRADER_BOT_NAME}: we have {len(portfolio)} opened positions.'\n",
    "    for i in portfolio:\n",
    "      message = message + f'\\n\\t*{i.symbol}*: qty {i.qty} {i.side} for _{i.market_value}$_ \\n\\t\\t\\tcurrent price _{i.current_price}$_ \\n\\t\\t\\tprofit _{i.unrealized_pl}$_'\n",
    "    send_message(message)\n",
    "  \n",
    "  if clock.is_open == False:\n",
    "    message = f\"{TRADER_BOT_NAME}: the market is *CLOSED*, let's try later on!\"\n",
    "    send_message(message)\n",
    "\n",
    "  return f'{TRADER_BOT_NAME}: DONE!'"
   ]
  },
  {
   "cell_type": "markdown",
   "id": "7c30ef43-aca5-482f-bdf6-b1bbe6d1b18b",
   "metadata": {},
   "source": [
    "We also check if the market is open and if we have enough money to trade (more than CASH_LIMIT). Then we screen the market as it was described in the chapter ‘Stock screener’, get the prediction for each stock from neural network and start the trading. On each step we notify Telegram-channel about the work done.\n",
    "\n",
    "Finally, we list all the stocks from our portfolio to the channel. From this information we can analyze how the trading is going.\n",
    "\n",
    "#### Bot’s work\n",
    "\n",
    "Because of the fact that we have our Telegram-channel setup we do not need to open the dashboard to see how our algorithm works, if it is profitable or it has lost some money — we can see all of those things simply in the Telegram-chan\n",
    "I have removed the name of one of my own experimental channels to keep it secure. However when your own bot will be working you will see a very similar listing in your iPhone as well as I can see it in here.\n",
    "\n",
    "#### This is not the end of the story\n",
    "\n",
    "As usually, in the end you probably expect to read the conclusion and that the story is finished and you can go and eat those soft French croissants. However, don’t rush. I highly recommend you to double check all these concepts and scripts on paper account (not real) with virtual money and ensure that this concept works particularly in your case. The same concept can work for one trader and not work for another one. It depends on many factors, even on the amount of money you have as the deposit on your trading account. And this is not a joke. Do you know that FINRA prohibits intraday trades for customers that don’t have at least 25k on their accounts?\n",
    "\n",
    "I want you to remember: profit and success on the stock market depends on many factors. The trading itself is risky and any strategy should be double checked before being applied to the real trading account.\n",
    "\n",
    "In this and also in the previous article you have got everything you need to start experimenting with these or any other trading strategy. Use them ‘for good’ and don’t forget to double check any strategy before applying them to the market itself. And good lu#### ck :)\n",
    "\n",
    "To be continued\n",
    "The next time I will describe another important thing in automated trading, — the environment for the components of your tradi (https://trading-data-analysis.pro/where-to-host-your-trading-bot-692e51369912)ng scripts, cause I don’t think you wish to launch those scripts manually :)\n",
    "\n",
    "As we use Tensorflow for the predictions from Google and Python as a programming language I would recommend you to use Google Cloud Functions and Scheduler because of simplicity and small costs.\n",
    "\n"
   ]
  },
  {
   "cell_type": "code",
   "execution_count": null,
   "id": "d3c18538-421b-4202-bb4c-9ede381310ad",
   "metadata": {},
   "outputs": [],
   "source": []
  }
 ],
 "metadata": {
  "kernelspec": {
   "display_name": "default:Python",
   "language": "python",
   "name": "conda-env-default-py"
  },
  "language_info": {
   "codemirror_mode": {
    "name": "ipython",
    "version": 3
   },
   "file_extension": ".py",
   "mimetype": "text/x-python",
   "name": "python",
   "nbconvert_exporter": "python",
   "pygments_lexer": "ipython3",
   "version": "3.9.16"
  }
 },
 "nbformat": 4,
 "nbformat_minor": 5
}
