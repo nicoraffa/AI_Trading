{
 "cells": [
  {
   "cell_type": "markdown",
   "id": "99b4bebc-9063-4026-8295-1cadad7ba41c",
   "metadata": {},
   "source": [
    "# Where to host your Trading Bot?\n",
    "\n",
    "#### Architecture\n",
    "The general idea is in using some host as an environment which will be work by itself without necessity to involve the human in the process. It means that Trading Bot works while you lay on the beach.\n",
    "\n",
    "To let it happen, let’s identify major actors i.e. the scripts.\n",
    "\n",
    "- Screener — responsible for scanning stocks on the stock market to find a pattern which is suitable for trading. We scan the first 500 stocks from NASDAQ index. Each stock is being testing by two technical analysis indicators — BBANDS and RSI;\n",
    "- Oracular — responsible for stock prices prediction for the upcoming 3 days. In this prediction we use LSTM neural network and Tensorflow model. To learn more about this component, consider reading one of the previous articles in this sequence (How to predict stock market prices with Tensorflow and LSTM neural network);\n",
    "- Trader — it is the final script out of these three. This one is responsible for submitting orders on the trading platform using Trading API as well as for buying and selling stocks. Everything that this script does is reading preliminary prepared list of stocks and its predictions from Pub/Sub infrastructure and then does the trading by itself.\n",
    "\n",
    "![Image not found](https://miro.medium.com/v2/resize:fit:4800/format:webp/1*m7vnMN6IBvKh3tozuUAmRw.png)\n",
    "\n",
    "We have to understand that all three scripts have an order in which they are being launched. The first one is the ‘Screener’ cause it has to find valuable stocks for trading, then follows the ‘Oracular’ to make its predictions for the defined list of preliminary prepared stocks by ‘Screener’. And the final one is ‘Trader’ which prepares and does trades by removing messages (stocks and predictions) from the Pub/Sub’s topics.\n",
    "\n",
    "Colab’s links for the full parts of code is at the end of the article.\n",
    "\n",
    "#### Pub/Sub’s infrastructure\n",
    "\n",
    "Major component of the system is “GCP Pub/Sub topics”. It allows us to establish connectivity between all components. Let’s discuss them here.\n",
    "\n",
    "Si bien la guía hace el despliegue en GCP, vamos a tratar de hacer el despliegue en AWS.\n",
    "\n",
    "We have two topics so far:\n",
    "\n",
    "- Screener topic — is used by ‘Screener’ to keep stocks which were found during the screening process for ‘Oracular’. In our experiment we save just only the first three stocks from the list into Pub/Sub topic;\n",
    "- Oracular topic — as well as ‘Screener topic’ is used by ‘Trader’ to make its trades. The component reads the predictions from the ‘Oracular topic’ to use them in trading itself. Just only ‘Oracular’ publishes predictions into this topic.\n",
    "\n",
    "Also we have the appropriate ‘Subscriptions’ which are created automatically during the creation process. We will look on how to create a Topic later in this article. So far, let’s consider the general scheme.\n",
    "\n",
    "\n",
    "![Image not found](https://miro.medium.com/v2/resize:fit:1400/format:webp/1*CVXeCR7xLlPRsymvv16Ggg.png)\n",
    "\n",
    "According to the picture above, we have three major blocks. They are: ‘Screener’, ‘Oracular’ and ‘Trader’. Each block has its own scheduler (GCP Job) and Function. Scheduler runs Function with particular schedule. En AWS se lo va a hacer con EventBridge ( https://docs.aws.amazon.com/eventbridge/latest/userguide/eb-create-rule-schedule.html ).\n",
    "\n",
    "Using the subscriptions, each component reads/writes data from/to particular topics which were mentioned above. ‘Trader’ just reads data from ‘Oracular’ and ‘Screener’ at the same time checking that data ‘as read’. The ‘Oracular’ reads from ‘Screener topic’ for its tasks, while the ‘Screener’ never reads — it is publisher. It just writes new stocks that were found during the screening process.\n",
    "\n",
    "As listed in the listing of the script ‘Trader’ we have defined two topics.\n",
    "\n",
    "Se crean, entonces, 2 AWS SNS Topics"
   ]
  },
  {
   "cell_type": "markdown",
   "id": "9edf8f1e-81ed-48f3-8a99-0e03c158bbab",
   "metadata": {},
   "source": [
    "##### Recursos creados\n",
    "\n",
    "- 3 SNS Topics\n",
    "- 3 SNS Subscriptions - pendiente\n",
    "- 3 EventBridge Schedules - pendiente\n",
    "- 3 lambda functions\n"
   ]
  }
 ],
 "metadata": {
  "kernelspec": {
   "display_name": "Python 3 (ipykernel)",
   "language": "python",
   "name": "python3"
  },
  "language_info": {
   "codemirror_mode": {
    "name": "ipython",
    "version": 3
   },
   "file_extension": ".py",
   "mimetype": "text/x-python",
   "name": "python",
   "nbconvert_exporter": "python",
   "pygments_lexer": "ipython3",
   "version": "3.12.0"
  }
 },
 "nbformat": 4,
 "nbformat_minor": 5
}
